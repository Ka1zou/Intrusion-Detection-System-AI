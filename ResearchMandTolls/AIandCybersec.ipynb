{
 "cells": [
  {
   "cell_type": "code",
   "execution_count": 13,
   "metadata": {},
   "outputs": [
    {
     "name": "stderr",
     "output_type": "stream",
     "text": [
      "c:\\Users\\issef\\AppData\\Local\\Programs\\Python\\Python310\\lib\\site-packages\\sklearn\\metrics\\_classification.py:1344: UndefinedMetricWarning: Precision and F-score are ill-defined and being set to 0.0 in labels with no predicted samples. Use `zero_division` parameter to control this behavior.\n",
      "  _warn_prf(average, modifier, msg_start, len(result))\n",
      "c:\\Users\\issef\\AppData\\Local\\Programs\\Python\\Python310\\lib\\site-packages\\sklearn\\metrics\\_classification.py:1344: UndefinedMetricWarning: Recall and F-score are ill-defined and being set to 0.0 in labels with no true samples. Use `zero_division` parameter to control this behavior.\n",
      "  _warn_prf(average, modifier, msg_start, len(result))\n",
      "c:\\Users\\issef\\AppData\\Local\\Programs\\Python\\Python310\\lib\\site-packages\\sklearn\\metrics\\_classification.py:1344: UndefinedMetricWarning: Precision and F-score are ill-defined and being set to 0.0 in labels with no predicted samples. Use `zero_division` parameter to control this behavior.\n",
      "  _warn_prf(average, modifier, msg_start, len(result))\n",
      "c:\\Users\\issef\\AppData\\Local\\Programs\\Python\\Python310\\lib\\site-packages\\sklearn\\metrics\\_classification.py:1344: UndefinedMetricWarning: Recall and F-score are ill-defined and being set to 0.0 in labels with no true samples. Use `zero_division` parameter to control this behavior.\n",
      "  _warn_prf(average, modifier, msg_start, len(result))\n"
     ]
    },
    {
     "name": "stdout",
     "output_type": "stream",
     "text": [
      "                 precision    recall  f1-score   support\n",
      "\n",
      "        apache2       0.00      0.00      0.00       737\n",
      "           back       0.84      0.97      0.90       359\n",
      "buffer_overflow       0.00      0.00      0.00        20\n",
      "      ftp_write       0.00      0.00      0.00         3\n",
      "   guess_passwd       0.00      0.00      0.00      1231\n",
      "     httptunnel       0.00      0.00      0.00       133\n",
      "           imap       0.00      0.00      0.00         1\n",
      "        ipsweep       0.73      0.98      0.83       141\n",
      "           land       1.00      0.43      0.60         7\n",
      "     loadmodule       0.00      0.00      0.00         2\n",
      "       mailbomb       0.00      0.00      0.00       293\n",
      "          mscan       0.00      0.00      0.00       996\n",
      "       multihop       0.00      0.00      0.00        18\n",
      "          named       0.00      0.00      0.00        17\n",
      "        neptune       0.96      1.00      0.98      4657\n",
      "           nmap       0.62      1.00      0.76        73\n",
      "         normal       0.64      0.97      0.77      9711\n",
      "           perl       0.00      0.00      0.00         2\n",
      "            phf       1.00      0.50      0.67         2\n",
      "            pod       0.72      0.93      0.81        41\n",
      "      portsweep       0.76      0.97      0.85       157\n",
      "   processtable       0.00      0.00      0.00       685\n",
      "             ps       0.00      0.00      0.00        15\n",
      "        rootkit       0.00      0.00      0.00        13\n",
      "          saint       0.00      0.00      0.00       319\n",
      "          satan       0.66      1.00      0.79       735\n",
      "       sendmail       0.00      0.00      0.00        14\n",
      "          smurf       0.98      1.00      0.99       665\n",
      "  snmpgetattack       0.00      0.00      0.00       178\n",
      "      snmpguess       0.00      0.00      0.00       331\n",
      "      sqlattack       0.00      0.00      0.00         2\n",
      "       teardrop       0.24      1.00      0.39        12\n",
      "       udpstorm       0.00      0.00      0.00         2\n",
      "    warezclient       0.00      0.00      0.00         0\n",
      "    warezmaster       0.50      0.00      0.00       944\n",
      "           worm       0.00      0.00      0.00         2\n",
      "          xlock       0.00      0.00      0.00         9\n",
      "         xsnoop       0.00      0.00      0.00         4\n",
      "          xterm       0.00      0.00      0.00        13\n",
      "\n",
      "       accuracy                           0.72     22544\n",
      "      macro avg       0.25      0.28      0.24     22544\n",
      "   weighted avg       0.57      0.72      0.62     22544\n",
      "\n"
     ]
    },
    {
     "name": "stderr",
     "output_type": "stream",
     "text": [
      "c:\\Users\\issef\\AppData\\Local\\Programs\\Python\\Python310\\lib\\site-packages\\sklearn\\metrics\\_classification.py:1344: UndefinedMetricWarning: Precision and F-score are ill-defined and being set to 0.0 in labels with no predicted samples. Use `zero_division` parameter to control this behavior.\n",
      "  _warn_prf(average, modifier, msg_start, len(result))\n",
      "c:\\Users\\issef\\AppData\\Local\\Programs\\Python\\Python310\\lib\\site-packages\\sklearn\\metrics\\_classification.py:1344: UndefinedMetricWarning: Recall and F-score are ill-defined and being set to 0.0 in labels with no true samples. Use `zero_division` parameter to control this behavior.\n",
      "  _warn_prf(average, modifier, msg_start, len(result))\n"
     ]
    },
    {
     "data": {
      "text/plain": [
       "['C:\\\\Users\\\\issef\\\\Desktop\\\\ResearchMandTolls\\\\intrusion_detection_model.joblib']"
      ]
     },
     "execution_count": 13,
     "metadata": {},
     "output_type": "execute_result"
    }
   ],
   "source": [
    "import pandas as pd\n",
    "import joblib\n",
    "from sklearn.model_selection import train_test_split\n",
    "from sklearn.preprocessing import OneHotEncoder, StandardScaler\n",
    "from sklearn.compose import ColumnTransformer\n",
    "from sklearn.ensemble import RandomForestClassifier\n",
    "from sklearn.metrics import classification_report\n",
    "from sklearn.pipeline import Pipeline\n",
    "\n",
    "# Load the dataset\n",
    "# Assuming the dataset does not have a header, we will need to specify it\n",
    "column_names = [\n",
    "    'duration', 'protocol_type', 'service', 'flag', 'src_bytes', 'dst_bytes',\n",
    "    'land', 'wrong_fragment', 'urgent', 'hot', 'num_failed_logins',\n",
    "    'logged_in', 'num_compromised', 'root_shell', 'su_attempted', 'num_root',\n",
    "    'num_file_creations', 'num_shells', 'num_access_files', 'num_outbound_cmds',\n",
    "    'is_host_login', 'is_guest_login', 'count', 'srv_count', 'serror_rate',\n",
    "    'srv_serror_rate', 'rerror_rate', 'srv_rerror_rate', 'same_srv_rate',\n",
    "    'diff_srv_rate', 'srv_diff_host_rate', 'dst_host_count', 'dst_host_srv_count',\n",
    "    'dst_host_same_srv_rate', 'dst_host_diff_srv_rate', 'dst_host_same_src_port_rate',\n",
    "    'dst_host_srv_diff_host_rate', 'dst_host_serror_rate', 'dst_host_srv_serror_rate',\n",
    "    'dst_host_rerror_rate', 'dst_host_srv_rerror_rate', 'label', 'difficulty_level'\n",
    "]\n",
    "\n",
    "# Replace 'path_to_train_dataset' and 'path_to_test_dataset' with the paths to the actual data files\n",
    "train_data = pd.read_csv('C:\\\\Users\\\\issef\\\\Desktop\\\\ResearchMandTolls\\\\KDDTrain+.txt', names=column_names, encoding='latin1')\n",
    "test_data = pd.read_csv('C:\\\\Users\\\\issef\\\\Desktop\\\\ResearchMandTolls\\\\KDDTest+.txt', names=column_names, encoding='latin1')\n",
    "\n",
    "train_data.drop('difficulty_level', axis=1, inplace=True)\n",
    "test_data.drop('difficulty_level', axis=1, inplace=True)\n",
    "\n",
    "# Separate features and labels\n",
    "X_train = train_data.drop('label', axis=1)\n",
    "y_train = train_data['label']\n",
    "X_test = test_data.drop('label', axis=1)\n",
    "y_test = test_data['label']\n",
    "\n",
    "# Identify categorical and numerical columns\n",
    "categorical_cols = X_train.select_dtypes(include=['object']).columns\n",
    "numerical_cols = X_train.select_dtypes(include=['int64', 'float64']).columns\n",
    "\n",
    "# Preprocessing pipeline\n",
    "preprocessor = ColumnTransformer(\n",
    "    transformers=[\n",
    "        ('num', StandardScaler(), numerical_cols),\n",
    "        ('cat', OneHotEncoder(handle_unknown='ignore'), categorical_cols)\n",
    "    ]\n",
    ")\n",
    "\n",
    "# Define the classifier\n",
    "rf_classifier = RandomForestClassifier(n_estimators=100, random_state=42)\n",
    "\n",
    "# Create a pipeline that combines the preprocessor with the classifier\n",
    "pipeline = Pipeline(steps=[('preprocessor', preprocessor),\n",
    "                           ('classifier', rf_classifier)])\n",
    "\n",
    "# Train the model\n",
    "pipeline.fit(X_train, y_train)\n",
    "\n",
    "# Predict on the test set\n",
    "y_pred = pipeline.predict(X_test)\n",
    "\n",
    "# Evaluate the model\n",
    "report = classification_report(y_test, y_pred)\n",
    "print(report)\n",
    "\n",
    "# Save the model to a joblib file\n",
    "model_filename = 'C:\\\\Users\\\\issef\\\\Desktop\\\\ResearchMandTolls\\\\intrusion_detection_model.joblib'\n",
    "joblib.dump(pipeline, model_filename)"
   ]
  }
 ],
 "metadata": {
  "kernelspec": {
   "display_name": "Python 3",
   "language": "python",
   "name": "python3"
  },
  "language_info": {
   "codemirror_mode": {
    "name": "ipython",
    "version": 3
   },
   "file_extension": ".py",
   "mimetype": "text/x-python",
   "name": "python",
   "nbconvert_exporter": "python",
   "pygments_lexer": "ipython3",
   "version": "3.10.8"
  }
 },
 "nbformat": 4,
 "nbformat_minor": 2
}
